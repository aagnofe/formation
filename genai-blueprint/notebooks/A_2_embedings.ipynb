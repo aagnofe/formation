{
 "cells": [
  {
   "cell_type": "markdown",
   "metadata": {},
   "source": [
    "# Embeddings"
   ]
  },
  {
   "cell_type": "code",
   "execution_count": null,
   "metadata": {},
   "outputs": [],
   "source": [
    "from devtools import debug\n",
    "\n",
    "!export PYTHONPATH=\":./python\""
   ]
  },
  {
   "cell_type": "code",
   "execution_count": null,
   "metadata": {},
   "outputs": [],
   "source": [
    "SENTENCE_1 = (\n",
    "    \"Tokenization is the process of breaking down a text into individual units.\"\n",
    ")\n",
    "SENTENCE_2 = \"Tokens can be words, phrases, or even individual characters.\"\n",
    "SENTENCE_3 = \"LangChain Provide a standardized way to load and process various types of documents\""
   ]
  },
  {
   "cell_type": "markdown",
   "metadata": {},
   "source": [
    "We have hard coded creation of sentence embedders in a factory.  \n",
    "See [embeddings.py](../python/ai_core/embeddings.py)  <br>\n",
    "Here the list : "
   ]
  },
  {
   "cell_type": "code",
   "execution_count": null,
   "metadata": {},
   "outputs": [],
   "source": [
    "from python.ai_core.embeddings import EmbeddingsFactory, get_embeddings\n",
    "\n",
    "print(EmbeddingsFactory.known_items())"
   ]
  },
  {
   "cell_type": "markdown",
   "metadata": {},
   "source": [
    "Encode some sentences and calculate cosine similarity"
   ]
  },
  {
   "cell_type": "code",
   "execution_count": null,
   "metadata": {},
   "outputs": [],
   "source": [
    "from langchain_community.utils.math import cosine_similarity\n",
    "\n",
    "embedder = get_embeddings(embeddings_id=None)  # default embedding model\n",
    "\n",
    "vector_1 = embedder.embed_documents([SENTENCE_1])\n",
    "other_vectors = embedder.embed_documents([SENTENCE_2, SENTENCE_3])\n",
    "\n",
    "result = cosine_similarity(vector_1, other_vectors)\n",
    "print(result)"
   ]
  },
  {
   "cell_type": "markdown",
   "metadata": {},
   "source": [
    "### Assignement \n",
    "\n",
    "- Test with other sentences, and other embeddings models\n",
    "- Have a look at https://huggingface.co/spaces/mteb/leaderboard "
   ]
  }
 ],
 "metadata": {
  "kernelspec": {
   "display_name": "genai-training-2X6HL8i2-py3.10",
   "language": "python",
   "name": "python3"
  },
  "language_info": {
   "codemirror_mode": {
    "name": "ipython",
    "version": 3
   },
   "file_extension": ".py",
   "mimetype": "text/x-python",
   "name": "python",
   "nbconvert_exporter": "python",
   "pygments_lexer": "ipython3",
   "version": "3.10.12"
  }
 },
 "nbformat": 4,
 "nbformat_minor": 2
}
